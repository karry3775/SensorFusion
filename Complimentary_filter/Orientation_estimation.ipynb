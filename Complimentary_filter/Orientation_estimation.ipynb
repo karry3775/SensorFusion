{
 "cells": [
  {
   "cell_type": "code",
   "execution_count": 38,
   "metadata": {},
   "outputs": [],
   "source": [
    "from time import sleep, time\n",
    "from math import sin, cos, tan, pi\n",
    "import pandas as pd \n",
    "import math\n",
    "import matplotlib.pyplot as plt"
   ]
  },
  {
   "cell_type": "code",
   "execution_count": 23,
   "metadata": {},
   "outputs": [
    {
     "data": {
      "text/plain": [
       "2000"
      ]
     },
     "execution_count": 23,
     "metadata": {},
     "output_type": "execute_result"
    }
   ],
   "source": [
    "data = pd.read_csv('imu_data.csv')\n",
    "len(data)"
   ]
  },
  {
   "cell_type": "code",
   "execution_count": 24,
   "metadata": {},
   "outputs": [
    {
     "data": {
      "text/html": [
       "<div>\n",
       "<style scoped>\n",
       "    .dataframe tbody tr th:only-of-type {\n",
       "        vertical-align: middle;\n",
       "    }\n",
       "\n",
       "    .dataframe tbody tr th {\n",
       "        vertical-align: top;\n",
       "    }\n",
       "\n",
       "    .dataframe thead th {\n",
       "        text-align: right;\n",
       "    }\n",
       "</style>\n",
       "<table border=\"1\" class=\"dataframe\">\n",
       "  <thead>\n",
       "    <tr style=\"text-align: right;\">\n",
       "      <th></th>\n",
       "      <th>t</th>\n",
       "      <th>Ax</th>\n",
       "      <th>Ay</th>\n",
       "      <th>Az</th>\n",
       "      <th>Gx</th>\n",
       "      <th>Gy</th>\n",
       "      <th>Gz</th>\n",
       "    </tr>\n",
       "  </thead>\n",
       "  <tbody>\n",
       "    <tr>\n",
       "      <th>0</th>\n",
       "      <td>0.000000</td>\n",
       "      <td>0.098145</td>\n",
       "      <td>0.026367</td>\n",
       "      <td>0.816162</td>\n",
       "      <td>-0.679389</td>\n",
       "      <td>1.076336</td>\n",
       "      <td>-1.152672</td>\n",
       "    </tr>\n",
       "    <tr>\n",
       "      <th>1</th>\n",
       "      <td>0.000197</td>\n",
       "      <td>0.101562</td>\n",
       "      <td>0.030762</td>\n",
       "      <td>0.815186</td>\n",
       "      <td>-3.007634</td>\n",
       "      <td>1.854962</td>\n",
       "      <td>0.114504</td>\n",
       "    </tr>\n",
       "    <tr>\n",
       "      <th>2</th>\n",
       "      <td>0.019354</td>\n",
       "      <td>0.106201</td>\n",
       "      <td>0.028809</td>\n",
       "      <td>0.838867</td>\n",
       "      <td>-6.396947</td>\n",
       "      <td>2.618321</td>\n",
       "      <td>0.572519</td>\n",
       "    </tr>\n",
       "    <tr>\n",
       "      <th>3</th>\n",
       "      <td>0.037792</td>\n",
       "      <td>0.104004</td>\n",
       "      <td>0.042969</td>\n",
       "      <td>0.843750</td>\n",
       "      <td>-12.022901</td>\n",
       "      <td>3.877863</td>\n",
       "      <td>1.351145</td>\n",
       "    </tr>\n",
       "    <tr>\n",
       "      <th>4</th>\n",
       "      <td>0.056218</td>\n",
       "      <td>0.079590</td>\n",
       "      <td>0.013672</td>\n",
       "      <td>0.841797</td>\n",
       "      <td>-6.931298</td>\n",
       "      <td>3.267176</td>\n",
       "      <td>-0.099237</td>\n",
       "    </tr>\n",
       "  </tbody>\n",
       "</table>\n",
       "</div>"
      ],
      "text/plain": [
       "          t        Ax        Ay        Az         Gx        Gy        Gz\n",
       "0  0.000000  0.098145  0.026367  0.816162  -0.679389  1.076336 -1.152672\n",
       "1  0.000197  0.101562  0.030762  0.815186  -3.007634  1.854962  0.114504\n",
       "2  0.019354  0.106201  0.028809  0.838867  -6.396947  2.618321  0.572519\n",
       "3  0.037792  0.104004  0.042969  0.843750 -12.022901  3.877863  1.351145\n",
       "4  0.056218  0.079590  0.013672  0.841797  -6.931298  3.267176 -0.099237"
      ]
     },
     "execution_count": 24,
     "metadata": {},
     "output_type": "execute_result"
    }
   ],
   "source": [
    "data.head()"
   ]
  },
  {
   "cell_type": "code",
   "execution_count": 49,
   "metadata": {},
   "outputs": [],
   "source": [
    "T = data.t[0:1000]"
   ]
  },
  {
   "cell_type": "code",
   "execution_count": 50,
   "metadata": {},
   "outputs": [
    {
     "data": {
      "text/plain": [
       "0       0.000000\n",
       "1       0.000197\n",
       "2       0.019354\n",
       "3       0.037792\n",
       "4       0.056218\n",
       "         ...    \n",
       "995    18.370768\n",
       "996    18.389218\n",
       "997    18.407672\n",
       "998    18.426121\n",
       "999    18.444616\n",
       "Name: t, Length: 1000, dtype: float64"
      ]
     },
     "execution_count": 50,
     "metadata": {},
     "output_type": "execute_result"
    }
   ],
   "source": [
    "T"
   ]
  },
  {
   "cell_type": "code",
   "execution_count": 40,
   "metadata": {},
   "outputs": [],
   "source": [
    "\n",
    "# Iterations and sleep time\n",
    "N = 1000\n",
    "# Filter coefficient\n",
    "alpha = 0.1\n",
    "\n",
    "#Gyro Bias\n",
    "bx = 0.0\n",
    "by = 0.0\n",
    "bz = 0.0\n",
    "\n",
    "# Complimentary filter estimates\n",
    "phi_hat = 0.0\n",
    "theta_hat = 0.0\n",
    "\n",
    "# Measured sampling time\n",
    "dt = 0.0\n",
    "\n",
    "#For angles \n",
    "phi_hat = [0]\n",
    "theta_hat = [0]\n",
    "shi_hat = [1]\n",
    "\n",
    "gtx = [0]\n",
    "gty = [0]\n",
    "gtz = [1]\n",
    "\n",
    "atx = [0]\n",
    "aty = [0]\n",
    "atz = [1]\n"
   ]
  },
  {
   "cell_type": "code",
   "execution_count": 41,
   "metadata": {},
   "outputs": [],
   "source": [
    "for i in range(1,N):\n",
    "    # Get estimated angles from raw accelerometer data\n",
    "    ax = data.Ax[i]\n",
    "    ay = data.Ay[i]\n",
    "    az = data.Az[i]\n",
    "    phi_hat_acc = math.atan2(ax, math.sqrt(ax ** 2.0 + az ** 2.0))\n",
    "    theta_hat_acc = math.atan2(ay, math.sqrt(ay ** 2.0 + az ** 2.0))\n",
    "    shi_hat_acc = math.atan2(az, math.sqrt(ay ** 2.0 + ax ** 2.0))\n",
    "    \n",
    "    # Get raw gyro data and subtract biases\n",
    "    p = data.Gx[i] * math.pi / (180.0 * 131.0)\n",
    "    q = data.Gy[i] * math.pi / (180.0 * 131.0)\n",
    "    r = data.Gz[i] * math.pi / (180.0 * 131.0)\n",
    "    p -= bx\n",
    "    q -= by\n",
    "    r -= bz\n",
    "    \n",
    "    # Calculate Euler angle derivatives \n",
    "    phi_dot = p + sin(phi_hat[i-1]) * tan(theta_hat[i-1]) * q + cos(phi_hat[i-1]) * tan(theta_hat[i-1]) * r\n",
    "    theta_dot = cos(phi_hat[i-1]) * q - sin(phi_hat[i-1]) * r\n",
    "    shi_dot = q*(sin(phi_hat[i-1])/cos(theta_hat[i-1])) + r*(cos(phi_hat[i-1])/cos(theta_hat[i-1]))\n",
    "    \n",
    "    #Store values from onlygyroscope\n",
    "    gtx.append(phi_hat[i-1] + dt * phi_dot)\n",
    "    gty.append(theta_hat[i-1] + dt * phi_dot)\n",
    "    gtz.append(shi_hat[i-1] + dt * phi_dot)\n",
    "    \n",
    "    \n",
    "    #Store Values only from accelerometer\n",
    "    atx.append(phi_hat_acc)\n",
    "    aty.append(theta_hat_acc)\n",
    "    atz.append(shi_hat_acc)\n",
    "    \n",
    "    # Update complimentary filter\n",
    "    phi_hat.append((1 - alpha) * (phi_hat[i-1] + dt * phi_dot) + alpha * phi_hat_acc)\n",
    "    theta_hat.append((1 - alpha) * (theta_hat[i-1] + dt * theta_dot) + alpha * theta_hat_acc)\n",
    "    shi_hat.append((1 - alpha) * (shi_hat[i-1] + dt * shi_dot) + alpha * shi_hat_acc)\n",
    "    \n",
    "    # Display results\n",
    "    #print(\"Phi: \" + str(round(phi_hat[i] * 180.0 / pi, 1)) + \" | Theta: \" + str(round(theta_hat[i] * 180.0 / pi, 1)))"
   ]
  },
  {
   "cell_type": "code",
   "execution_count": 68,
   "metadata": {},
   "outputs": [
    {
     "data": {
      "text/plain": [
       "Text(0.5, 1.0, 'X-orientation')"
      ]
     },
     "execution_count": 68,
     "metadata": {},
     "output_type": "execute_result"
    },
    {
     "data": {
      "image/png": "[encoded data removed]",
      "text/plain": [
       "<Figure size 432x288 with 1 Axes>"
      ]
     },
     "metadata": {
      "needs_background": "light"
     },
     "output_type": "display_data"
    }
   ],
   "source": [
    "fig, ax = plt.subplots()\n",
    "ax.plot(T,phi_hat, 'b', label='Fused')\n",
    "ax.plot(T,gtx, 'r', label='Gyroscope')\n",
    "ax.plot(T,atx, 'y', label='Accelerometer')\n",
    "leg = ax.legend();\n",
    "plt.title('X-orientation')"
   ]
  },
  {
   "cell_type": "code",
   "execution_count": 69,
   "metadata": {},
   "outputs": [
    {
     "data": {
      "text/plain": [
       "Text(0.5, 1.0, 'Y-orientation')"
      ]
     },
     "execution_count": 69,
     "metadata": {},
     "output_type": "execute_result"
    },
    {
     "data": {
      "image/png": "[encoded data removed]",
      "text/plain": [
       "<Figure size 432x288 with 1 Axes>"
      ]
     },
     "metadata": {
      "needs_background": "light"
     },
     "output_type": "display_data"
    }
   ],
   "source": [
    "fig, ax = plt.subplots()\n",
    "ax.plot(T,theta_hat, 'b', label='Fused')\n",
    "ax.plot(T,gty, 'r', label='Gyroscope')\n",
    "ax.plot(T,aty, 'y', label='Accelerometer')\n",
    "leg = ax.legend();\n",
    "plt.title('Y-orientation')"
   ]
  },
  {
   "cell_type": "code",
   "execution_count": null,
   "metadata": {},
   "outputs": [],
   "source": [
    "fig, ax = plt.subplots()\n",
    "ax.plot(T,theta_hat, 'b', label='Fused')\n",
    "ax.plot(T,gty, 'r', label='Gyroscope')\n",
    "ax.plot(T,aty, 'y', label='Accelerometer')\n",
    "leg = ax.legend();\n",
    "plt.title('-orientation')"
   ]
  }
 ],
 "metadata": {
  "kernelspec": {
   "display_name": "Python 3",
   "language": "python",
   "name": "python3"
  },
  "language_info": {
   "codemirror_mode": {
    "name": "ipython",
    "version": 3
   },
   "file_extension": ".py",
   "mimetype": "text/x-python",
   "name": "python",
   "nbconvert_exporter": "python",
   "pygments_lexer": "ipython3",
   "version": "3.7.4"
  }
 },
 "nbformat": 4,
 "nbformat_minor": 4
}
